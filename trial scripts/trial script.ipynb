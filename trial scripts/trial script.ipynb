{
 "cells": [
  {
   "cell_type": "code",
   "execution_count": 48,
   "metadata": {},
   "outputs": [],
   "source": [
    "s='We promptly judged antique ivory buckles for the next prize'\n",
    "z1=s.replace(\" \",'')\n",
    "z='abcdefghijklmnopqrstuvwzyz'\n",
    "list2=list(z1.lower())\n",
    "list2.sort()\n",
    "set1=set(list2)\n",
    "set2=set(z)\n",
    "if sorted(set1)[0::]==sorted(set2)[0::]:\n",
    "    print(\"panagram\")\n",
    "\n"
   ]
  },
  {
   "cell_type": "code",
   "execution_count": null,
   "metadata": {},
   "outputs": [],
   "source": []
  },
  {
   "cell_type": "code",
   "execution_count": null,
   "metadata": {},
   "outputs": [],
   "source": []
  }
 ],
 "metadata": {
  "kernelspec": {
   "display_name": "Python 3",
   "language": "python",
   "name": "python3"
  },
  "language_info": {
   "codemirror_mode": {
    "name": "ipython",
    "version": 3
   },
   "file_extension": ".py",
   "mimetype": "text/x-python",
   "name": "python",
   "nbconvert_exporter": "python",
   "pygments_lexer": "ipython3",
   "version": "3.6.5"
  }
 },
 "nbformat": 4,
 "nbformat_minor": 2
}
