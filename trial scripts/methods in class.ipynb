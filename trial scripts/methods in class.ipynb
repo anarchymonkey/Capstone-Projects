{
 "cells": [
  {
   "cell_type": "markdown",
   "metadata": {},
   "source": [
    "METHODS ARE FUNCTIONS acting on an object that take the object into account using the self argument"
   ]
  },
  {
   "cell_type": "code",
   "execution_count": 46,
   "metadata": {},
   "outputs": [],
   "source": [
    "class Car():\n",
    "    \n",
    "    product = 'vehicle'\n",
    "    \n",
    "    def __init__(self,company,model,price,color,category):\n",
    "        \n",
    "        self.company=company\n",
    "        self.model=model\n",
    "        self.price=price\n",
    "        self.color=color\n",
    "        self.category=category\n",
    "      \n",
    "        # operations / Actions ---- > Methods\n",
    "        \n",
    "    def start(self,milage):\n",
    "        print('The cars model is {} and its milage is {} kmpl'.format(self.model,milage))\n",
    "        #WE NEED TO PASS SELF.NAME EVERYTIME\n",
    "        "
   ]
  },
  {
   "cell_type": "code",
   "execution_count": 47,
   "metadata": {},
   "outputs": [],
   "source": [
    "cars=Car('Hyundai','i10',450000,'Stardust','LMV')"
   ]
  },
  {
   "cell_type": "code",
   "execution_count": 48,
   "metadata": {},
   "outputs": [
    {
     "name": "stdout",
     "output_type": "stream",
     "text": [
      "The cars model is i10 and its milage is 25 kmpl\n"
     ]
    }
   ],
   "source": [
    "cars.start(25)"
   ]
  },
  {
   "cell_type": "code",
   "execution_count": 73,
   "metadata": {},
   "outputs": [],
   "source": [
    "class Circle():\n",
    "    #this is global , is it not?\n",
    "    pi=3.14\n",
    "    \n",
    "    def __init__(self,radius=1):\n",
    "        \n",
    "        self.radius=radius\n",
    "        self.area=radius*radius*Circle.pi\n",
    "        \n",
    "        #pi can be called by self.pi or circle.pi\n",
    "        #area is defined by the user but it is not down\n",
    "        \n",
    "    def circumference(self):\n",
    "        return '%.2f'%(2*self.pi*self.radius) \n",
    "    #Smooth AF"
   ]
  },
  {
   "cell_type": "code",
   "execution_count": 74,
   "metadata": {},
   "outputs": [],
   "source": [
    "cir=Circle(20)"
   ]
  },
  {
   "cell_type": "code",
   "execution_count": 75,
   "metadata": {},
   "outputs": [
    {
     "data": {
      "text/plain": [
       "'125.60'"
      ]
     },
     "execution_count": 75,
     "metadata": {},
     "output_type": "execute_result"
    }
   ],
   "source": [
    "cir.circumference()"
   ]
  },
  {
   "cell_type": "code",
   "execution_count": 76,
   "metadata": {},
   "outputs": [
    {
     "data": {
      "text/plain": [
       "1256.0"
      ]
     },
     "execution_count": 76,
     "metadata": {},
     "output_type": "execute_result"
    }
   ],
   "source": [
    "cir.area"
   ]
  },
  {
   "cell_type": "code",
   "execution_count": null,
   "metadata": {},
   "outputs": [],
   "source": []
  }
 ],
 "metadata": {
  "kernelspec": {
   "display_name": "Python 3",
   "language": "python",
   "name": "python3"
  },
  "language_info": {
   "codemirror_mode": {
    "name": "ipython",
    "version": 3
   },
   "file_extension": ".py",
   "mimetype": "text/x-python",
   "name": "python",
   "nbconvert_exporter": "python",
   "pygments_lexer": "ipython3",
   "version": "3.6.5"
  }
 },
 "nbformat": 4,
 "nbformat_minor": 2
}
